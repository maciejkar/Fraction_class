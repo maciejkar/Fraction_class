{
 "cells": [
  {
   "cell_type": "markdown",
   "id": "metallic-diagram",
   "metadata": {},
   "source": [
    "## Lista 1\n",
    "    \n",
    "   \n",
    "    \n",
    "Maciej Karczewski"
   ]
  },
  {
   "cell_type": "markdown",
   "id": "cellular-duplicate",
   "metadata": {},
   "source": [
    "- Stworzyłem klase Fraction, która reprezentuje ułamiki zwykłe w postaci skróconej oraz je w takiej postaci przechowuje wraz z podstawowymi działaniami arytmerycznymi\n",
    "\n",
    "```\n",
    "\n",
    "    def __init__(self, num, den) :\n",
    "        \"\"\"Function creat and reduse fractions\n",
    "        @parm num: (int) numerator\n",
    "        @parm den: (int) denominator\"\"\"\n",
    "        \n",
    "    \n",
    "        if type(num) == int and type(den) == int:\n",
    "            if den == 0:\n",
    "                raise ValueError(\"Denominator can't be 0\")\n",
    "            if den * num > 0:\n",
    "                self.num = abs(num)\n",
    "                self.den = abs(den)\n",
    "            else :\n",
    "                self.num = -abs(num)\n",
    "                self.den = abs(den)\n",
    "            \n",
    "            # redusing fraction   \n",
    "            n = 2\n",
    "            while n <= min(abs(self.num), abs(self.den)):\n",
    "                if self.num % n == 0 and self.den % n == 0:\n",
    "                    self.num = self.num // n\n",
    "                    self.den = self.den // n \n",
    "                else:\n",
    "                    n += 1\n",
    "        else :    \n",
    "            raise ValueError(\"Numerator and denominator must be intiger \")\n",
    "            \n",
    "    def __str__(self):\n",
    "        if self.den == 1:\n",
    "            return str(self.num)\n",
    "        if self.mixed == True:\n",
    "            return str(self.num // self.den) + \" and \" + str(self.num % self.den) + \"/\"       +str(self.den)\n",
    "        return str(self.num) + '/' + str(self.den)\n",
    "\n",
    "    def __add__(self, other):\n",
    "        if type(other) != Fraction:\n",
    "            other = Fraction(other, 1)\n",
    "\n",
    "        return Fraction(self.num * other.den + other.num * self.den, self.den * other.den)\n",
    "\n",
    "    def __radd__(self, other):\n",
    "        return self + other\n",
    "    \n",
    "    def __sub__(self, other):\n",
    "        if type(other) != Fraction:\n",
    "            other = Fraction(other, 1)\n",
    "            \n",
    "        return Fraction(self.num * other.den - other.num * self.den, self.den * other.den)\n",
    "\n",
    "    def __mul__(self,other):\n",
    "        if type(other) != Fraction:\n",
    "            return other * self\n",
    "        return Fraction(self.num * other.num , self.den * other.den)\n",
    "\n",
    "    def __rmul__(self, scalar):\n",
    "        return Fraction(self.num * scalar, self.den)\n",
    "    \n",
    "    def __truediv__(self, other):\n",
    "        if type(other) != Fraction:\n",
    "            return Fraction(self.num, self.den * other)\n",
    "\n",
    "        return Fraction(self.num * other.den , self.den * other.num)\n",
    "        \n",
    "```"
   ]
  },
  {
   "cell_type": "code",
   "execution_count": 2,
   "id": "transsexual-vitamin",
   "metadata": {},
   "outputs": [
    {
     "name": "stdout",
     "output_type": "stream",
     "text": [
      "7/2\n",
      "5/2\n"
     ]
    }
   ],
   "source": [
    "f1 = Fraction(7,2)\n",
    "f2 = Fraction(10,4)\n",
    "print(f1)\n",
    "print(f2)"
   ]
  },
  {
   "cell_type": "code",
   "execution_count": 3,
   "id": "unsigned-exception",
   "metadata": {},
   "outputs": [
    {
     "name": "stdout",
     "output_type": "stream",
     "text": [
      "1/2\n",
      "21/2\n",
      "7/6\n",
      "-7/5\n"
     ]
    }
   ],
   "source": [
    "f1 = Fraction(7,2)\n",
    "f2 = Fraction(12,4)\n",
    "f3 = Fraction(-2,5)\n",
    "print(f1 - f2)\n",
    "print(f1 * f2)\n",
    "print(f1 / f2)\n",
    "print(f1 * f3)"
   ]
  },
  {
   "cell_type": "markdown",
   "id": "friendly-mathematics",
   "metadata": {},
   "source": [
    "- Gdy spróbuje się dać jako mianownik lub licznik liczbę inną niż typy Int wyskoczy błąd"
   ]
  },
  {
   "cell_type": "code",
   "execution_count": 4,
   "id": "above-confirmation",
   "metadata": {},
   "outputs": [
    {
     "ename": "ValueError",
     "evalue": "Numerator and denominator must be intiger ",
     "output_type": "error",
     "traceback": [
      "\u001b[1;31m---------------------------------------------------------------------------\u001b[0m",
      "\u001b[1;31mValueError\u001b[0m                                Traceback (most recent call last)",
      "\u001b[1;32m<ipython-input-4-3f9ae523161a>\u001b[0m in \u001b[0;36m<module>\u001b[1;34m\u001b[0m\n\u001b[0;32m      1\u001b[0m \u001b[0mFraction\u001b[0m\u001b[1;33m.\u001b[0m\u001b[0mallow_float\u001b[0m \u001b[1;33m=\u001b[0m \u001b[1;32mFalse\u001b[0m \u001b[1;31m# o tym później\u001b[0m\u001b[1;33m\u001b[0m\u001b[1;33m\u001b[0m\u001b[0m\n\u001b[1;32m----> 2\u001b[1;33m \u001b[0mFraction\u001b[0m\u001b[1;33m(\u001b[0m\u001b[1;36m2.1\u001b[0m\u001b[1;33m,\u001b[0m\u001b[1;36m1\u001b[0m\u001b[1;33m)\u001b[0m\u001b[1;33m\u001b[0m\u001b[1;33m\u001b[0m\u001b[0m\n\u001b[0m",
      "\u001b[1;32m<ipython-input-1-d701155b7fe7>\u001b[0m in \u001b[0;36m__init__\u001b[1;34m(self, num, den)\u001b[0m\n\u001b[0;32m     42\u001b[0m                     \u001b[0mn\u001b[0m \u001b[1;33m+=\u001b[0m \u001b[1;36m1\u001b[0m\u001b[1;33m\u001b[0m\u001b[1;33m\u001b[0m\u001b[0m\n\u001b[0;32m     43\u001b[0m         \u001b[1;32melse\u001b[0m \u001b[1;33m:\u001b[0m\u001b[1;33m\u001b[0m\u001b[1;33m\u001b[0m\u001b[0m\n\u001b[1;32m---> 44\u001b[1;33m             \u001b[1;32mraise\u001b[0m \u001b[0mValueError\u001b[0m\u001b[1;33m(\u001b[0m\u001b[1;34m\"Numerator and denominator must be intiger \"\u001b[0m\u001b[1;33m)\u001b[0m\u001b[1;33m\u001b[0m\u001b[1;33m\u001b[0m\u001b[0m\n\u001b[0m\u001b[0;32m     45\u001b[0m \u001b[1;33m\u001b[0m\u001b[0m\n\u001b[0;32m     46\u001b[0m     \u001b[1;32mdef\u001b[0m \u001b[0mget_num\u001b[0m\u001b[1;33m(\u001b[0m\u001b[0mself\u001b[0m\u001b[1;33m)\u001b[0m\u001b[1;33m:\u001b[0m\u001b[1;33m\u001b[0m\u001b[1;33m\u001b[0m\u001b[0m\n",
      "\u001b[1;31mValueError\u001b[0m: Numerator and denominator must be intiger "
     ]
    }
   ],
   "source": [
    "Fraction.allow_float = False # o tym później \n",
    "Fraction(2.1,1)"
   ]
  },
  {
   "cell_type": "code",
   "execution_count": 5,
   "id": "corporate-patio",
   "metadata": {},
   "outputs": [
    {
     "ename": "ValueError",
     "evalue": "Numerator and denominator must be intiger ",
     "output_type": "error",
     "traceback": [
      "\u001b[1;31m---------------------------------------------------------------------------\u001b[0m",
      "\u001b[1;31mValueError\u001b[0m                                Traceback (most recent call last)",
      "\u001b[1;32m<ipython-input-5-ffc35d20ab23>\u001b[0m in \u001b[0;36m<module>\u001b[1;34m\u001b[0m\n\u001b[0;32m      1\u001b[0m \u001b[0mFraction\u001b[0m\u001b[1;33m.\u001b[0m\u001b[0mallow_float\u001b[0m \u001b[1;33m=\u001b[0m \u001b[1;32mFalse\u001b[0m \u001b[1;31m# o tym później\u001b[0m\u001b[1;33m\u001b[0m\u001b[1;33m\u001b[0m\u001b[0m\n\u001b[1;32m----> 2\u001b[1;33m \u001b[0mFraction\u001b[0m\u001b[1;33m(\u001b[0m\u001b[1;36m2\u001b[0m\u001b[1;33m,\u001b[0m\u001b[1;36m1.5\u001b[0m\u001b[1;33m)\u001b[0m\u001b[1;33m\u001b[0m\u001b[1;33m\u001b[0m\u001b[0m\n\u001b[0m",
      "\u001b[1;32m<ipython-input-1-d701155b7fe7>\u001b[0m in \u001b[0;36m__init__\u001b[1;34m(self, num, den)\u001b[0m\n\u001b[0;32m     42\u001b[0m                     \u001b[0mn\u001b[0m \u001b[1;33m+=\u001b[0m \u001b[1;36m1\u001b[0m\u001b[1;33m\u001b[0m\u001b[1;33m\u001b[0m\u001b[0m\n\u001b[0;32m     43\u001b[0m         \u001b[1;32melse\u001b[0m \u001b[1;33m:\u001b[0m\u001b[1;33m\u001b[0m\u001b[1;33m\u001b[0m\u001b[0m\n\u001b[1;32m---> 44\u001b[1;33m             \u001b[1;32mraise\u001b[0m \u001b[0mValueError\u001b[0m\u001b[1;33m(\u001b[0m\u001b[1;34m\"Numerator and denominator must be intiger \"\u001b[0m\u001b[1;33m)\u001b[0m\u001b[1;33m\u001b[0m\u001b[1;33m\u001b[0m\u001b[0m\n\u001b[0m\u001b[0;32m     45\u001b[0m \u001b[1;33m\u001b[0m\u001b[0m\n\u001b[0;32m     46\u001b[0m     \u001b[1;32mdef\u001b[0m \u001b[0mget_num\u001b[0m\u001b[1;33m(\u001b[0m\u001b[0mself\u001b[0m\u001b[1;33m)\u001b[0m\u001b[1;33m:\u001b[0m\u001b[1;33m\u001b[0m\u001b[1;33m\u001b[0m\u001b[0m\n",
      "\u001b[1;31mValueError\u001b[0m: Numerator and denominator must be intiger "
     ]
    }
   ],
   "source": [
    "Fraction.allow_float = False # o tym później \n",
    "Fraction(2,1.5)"
   ]
  },
  {
   "cell_type": "markdown",
   "id": "occupational-deposit",
   "metadata": {},
   "source": [
    "- Błąd wyskoczy także gdy spróbujemy wstawić do mianownika zero"
   ]
  },
  {
   "cell_type": "code",
   "execution_count": 6,
   "id": "interim-remains",
   "metadata": {},
   "outputs": [
    {
     "ename": "ValueError",
     "evalue": "Denominator can't be 0",
     "output_type": "error",
     "traceback": [
      "\u001b[1;31m---------------------------------------------------------------------------\u001b[0m",
      "\u001b[1;31mValueError\u001b[0m                                Traceback (most recent call last)",
      "\u001b[1;32m<ipython-input-6-6ee63e0e64b3>\u001b[0m in \u001b[0;36m<module>\u001b[1;34m\u001b[0m\n\u001b[1;32m----> 1\u001b[1;33m \u001b[0mFraction\u001b[0m\u001b[1;33m(\u001b[0m\u001b[1;36m3\u001b[0m\u001b[1;33m,\u001b[0m\u001b[1;36m0\u001b[0m\u001b[1;33m)\u001b[0m\u001b[1;33m\u001b[0m\u001b[1;33m\u001b[0m\u001b[0m\n\u001b[0m",
      "\u001b[1;32m<ipython-input-1-d701155b7fe7>\u001b[0m in \u001b[0;36m__init__\u001b[1;34m(self, num, den)\u001b[0m\n\u001b[0;32m     25\u001b[0m         \u001b[1;32mif\u001b[0m \u001b[0mtype\u001b[0m\u001b[1;33m(\u001b[0m\u001b[0mnum\u001b[0m\u001b[1;33m)\u001b[0m \u001b[1;33m==\u001b[0m \u001b[0mint\u001b[0m \u001b[1;32mand\u001b[0m \u001b[0mtype\u001b[0m\u001b[1;33m(\u001b[0m\u001b[0mden\u001b[0m\u001b[1;33m)\u001b[0m \u001b[1;33m==\u001b[0m \u001b[0mint\u001b[0m\u001b[1;33m:\u001b[0m\u001b[1;33m\u001b[0m\u001b[1;33m\u001b[0m\u001b[0m\n\u001b[0;32m     26\u001b[0m             \u001b[1;32mif\u001b[0m \u001b[0mden\u001b[0m \u001b[1;33m==\u001b[0m \u001b[1;36m0\u001b[0m\u001b[1;33m:\u001b[0m\u001b[1;33m\u001b[0m\u001b[1;33m\u001b[0m\u001b[0m\n\u001b[1;32m---> 27\u001b[1;33m                 \u001b[1;32mraise\u001b[0m \u001b[0mValueError\u001b[0m\u001b[1;33m(\u001b[0m\u001b[1;34m\"Denominator can't be 0\"\u001b[0m\u001b[1;33m)\u001b[0m\u001b[1;33m\u001b[0m\u001b[1;33m\u001b[0m\u001b[0m\n\u001b[0m\u001b[0;32m     28\u001b[0m             \u001b[1;32mif\u001b[0m \u001b[0mden\u001b[0m \u001b[1;33m*\u001b[0m \u001b[0mnum\u001b[0m \u001b[1;33m>\u001b[0m \u001b[1;36m0\u001b[0m\u001b[1;33m:\u001b[0m\u001b[1;33m\u001b[0m\u001b[1;33m\u001b[0m\u001b[0m\n\u001b[0;32m     29\u001b[0m                 \u001b[0mself\u001b[0m\u001b[1;33m.\u001b[0m\u001b[0mnum\u001b[0m \u001b[1;33m=\u001b[0m \u001b[0mabs\u001b[0m\u001b[1;33m(\u001b[0m\u001b[0mnum\u001b[0m\u001b[1;33m)\u001b[0m\u001b[1;33m\u001b[0m\u001b[1;33m\u001b[0m\u001b[0m\n",
      "\u001b[1;31mValueError\u001b[0m: Denominator can't be 0"
     ]
    }
   ],
   "source": [
    "Fraction(3,0)"
   ]
  },
  {
   "cell_type": "markdown",
   "id": "racial-happening",
   "metadata": {},
   "source": [
    "- Dodałem możliwość porównania ułamków ze sobą (działa też dla  ujemnych ułamków) \n",
    "```\n",
    "def __lt__(self, other):\n",
    "        if type(other) != Fraction:\n",
    "            if float(self) < other :\n",
    "                 return True\n",
    "            else:\n",
    "                return False\n",
    "\n",
    "        if self.num / self.den < other.num / other.den :\n",
    "            return True\n",
    "        else:\n",
    "            return False\n",
    "\n",
    "    def __gt__(self, other):\n",
    "        return not self < other\n",
    "\n",
    "    def __eq__(self, other):\n",
    "        if type(other) != Fraction:\n",
    "            if math.isclose(float(self) , other) :\n",
    "                 return True\n",
    "            else:\n",
    "                return False\n",
    "\n",
    "        if self.num == other.num and self.den == other.den:\n",
    "            return True\n",
    "        else:\n",
    "            return False\n",
    "    \n",
    "    def __le__(self, other):\n",
    "        if self.__lt__(other)  or self.__eq__(other):\n",
    "            return True\n",
    "        else:\n",
    "            return False\n",
    "    \n",
    "    def __ge__(self, other):\n",
    "        return  self > other or self == other\n",
    "```"
   ]
  },
  {
   "cell_type": "code",
   "execution_count": 7,
   "id": "southern-bibliography",
   "metadata": {},
   "outputs": [
    {
     "name": "stdout",
     "output_type": "stream",
     "text": [
      "False\n",
      "True\n",
      "False\n",
      "True\n",
      "True\n",
      "False\n",
      "False\n"
     ]
    }
   ],
   "source": [
    "f1 = Fraction(2,3) \n",
    "f2 = Fraction(5,2)\n",
    "f3 = Fraction(4,-3)\n",
    "print(f1 > f2)\n",
    "print(f1 > f3)\n",
    "print(f1 >= f2)\n",
    "print(f1 < f2)\n",
    "print(f1 <= f2)\n",
    "print(f1 != f1)\n",
    "print(f1 == f2)"
   ]
  },
  {
   "cell_type": "markdown",
   "id": "comfortable-texture",
   "metadata": {},
   "source": [
    "- Stworzyłem metody  get_num i get_den, które zwracają odpowiednio licznik i mianownik\n",
    "```def get_num(self):\n",
    "        \"\"\"Method return numerator\"\"\"\n",
    "        return self.num\n",
    "\n",
    "    def get_den(self):\n",
    "        \"\"\"Method return denominator\"\"\"\n",
    "        return self.den\n",
    "```\n"
   ]
  },
  {
   "cell_type": "code",
   "execution_count": 8,
   "id": "polyphonic-uganda",
   "metadata": {},
   "outputs": [
    {
     "name": "stdout",
     "output_type": "stream",
     "text": [
      "2\n",
      "3\n"
     ]
    }
   ],
   "source": [
    "f1 = Fraction(2,3)\n",
    "print(f1.get_num())\n",
    "print(f1.get_den())"
   ]
  },
  {
   "cell_type": "markdown",
   "id": "faced-humanitarian",
   "metadata": {},
   "source": [
    "## Dodatkowo\n",
    "- dodałem metode float która zwraca nam przybliżoną wartość tego ułamka\n",
    "```\n",
    "    def __float__(self):\n",
    "        return self.num / self.den\n",
    "```"
   ]
  },
  {
   "cell_type": "code",
   "execution_count": 9,
   "id": "frank-entrepreneur",
   "metadata": {},
   "outputs": [
    {
     "name": "stdout",
     "output_type": "stream",
     "text": [
      "4.5\n"
     ]
    }
   ],
   "source": [
    "f1 = Fraction(9,2)\n",
    "print(float(f1))"
   ]
  },
  {
   "cell_type": "markdown",
   "id": "seventh-hormone",
   "metadata": {},
   "source": [
    "- jeśli ułamek ma mianownik równy 1 to jest wypisywany tylko licznik "
   ]
  },
  {
   "cell_type": "code",
   "execution_count": 10,
   "id": "ranking-pendant",
   "metadata": {},
   "outputs": [
    {
     "name": "stdout",
     "output_type": "stream",
     "text": [
      "-5\n"
     ]
    }
   ],
   "source": [
    "f1 = Fraction(-25, 5)\n",
    "print(f1)"
   ]
  },
  {
   "cell_type": "markdown",
   "id": "weighted-silence",
   "metadata": {},
   "source": [
    "- możemy wykonywać operacje arytmetyczne z Intami i porównywać z Intami lub floatami a jeśli zmienimy atrybut statyczny allow_float na True będziemy mogli także wykonywać operacje arytmetyczne także z floatami a same ułamki mogą być stworzone z liczb niecałkowitych \n",
    "\n",
    "```\n",
    "        # Change float to ratio whe is allowed\n",
    "        if self.allow_float == True and type(num) in (float, int) and type(den) in (float, int):\n",
    "            num = math.floor(num * 10 ** self.float_precision)\n",
    "            den = math.floor(den * 10 ** self.float_precision)\n",
    "            \n",
    "            while num % 10 == 0 and den % 10 == 0:\n",
    "                num = num // 10\n",
    "                den = den // 10\n",
    "```"
   ]
  },
  {
   "cell_type": "code",
   "execution_count": 11,
   "id": "tough-funds",
   "metadata": {},
   "outputs": [
    {
     "name": "stdout",
     "output_type": "stream",
     "text": [
      "3/5\n",
      "-1/2\n",
      "False\n",
      "True\n",
      "2\n",
      "7/10\n",
      "9/5\n",
      "-157/100\n",
      "20/91\n"
     ]
    }
   ],
   "source": [
    "Fraction.allow_float = True\n",
    "f1 = Fraction(2.4,4)\n",
    "f2 = Fraction(1.5,-3)\n",
    "print(f1)\n",
    "print(f2)\n",
    "print(f1 > 3)\n",
    "print(f1 > 0.1)\n",
    "print(f2 + 2.5)\n",
    "print(0.1 + f1)\n",
    "print(f1 * 3)\n",
    "print(3.14 * f2)\n",
    "print(f1 / 2.73)"
   ]
  },
  {
   "cell_type": "markdown",
   "id": "experienced-roulette",
   "metadata": {},
   "source": [
    "- Możemy też podnosić ułamek do potęgi "
   ]
  },
  {
   "cell_type": "code",
   "execution_count": 12,
   "id": "comfortable-valentine",
   "metadata": {},
   "outputs": [
    {
     "name": "stdout",
     "output_type": "stream",
     "text": [
      "1/4\n",
      "4\n",
      "5000/7071\n"
     ]
    }
   ],
   "source": [
    "f1 = Fraction(7,14)\n",
    "print(f1 ** 2)\n",
    "print(f1 ** -2)\n",
    "print(f1 ** f1)"
   ]
  },
  {
   "cell_type": "markdown",
   "id": "artistic-soccer",
   "metadata": {},
   "source": [
    "- Jak tylko zmienimy atrybut statyczny mixed na True to wszystkie ułamki będą pokazywane w mieszanej postaci"
   ]
  },
  {
   "cell_type": "code",
   "execution_count": 13,
   "id": "ahead-mounting",
   "metadata": {},
   "outputs": [
    {
     "name": "stdout",
     "output_type": "stream",
     "text": [
      "2 and 2/3\n",
      "2 and 1/2\n",
      "5 and 1/6\n"
     ]
    }
   ],
   "source": [
    "Fraction.mixed = True\n",
    "f1 = Fraction(8,3)\n",
    "f2 = Fraction(5,2)\n",
    "print(f1)\n",
    "print(f2)\n",
    "print(f1 + f2)\n",
    "Fraction.mixed = False"
   ]
  },
  {
   "cell_type": "markdown",
   "id": "compressed-adoption",
   "metadata": {},
   "source": [
    "- Możemy także zmienić precyzje ułamków z liczb zmiennoprzecinkowych zmieniając atrybut float_precision z 4 na iną liczę całkowitą ale im większa tym może wolniej działać o rząd wielkości "
   ]
  },
  {
   "cell_type": "code",
   "execution_count": 14,
   "id": "alleged-radar",
   "metadata": {},
   "outputs": [
    {
     "name": "stdout",
     "output_type": "stream",
     "text": [
      "6283/4000\n",
      "15707963/10000000\n"
     ]
    }
   ],
   "source": [
    "Fraction.float_precision = 4\n",
    "print(Fraction(3.141592653, 2))\n",
    "Fraction.float_precision = 7\n",
    "print(Fraction(3.141592653, 2))\n",
    "Fraction.float_precision = 4"
   ]
  },
  {
   "cell_type": "markdown",
   "id": "foster-bathroom",
   "metadata": {},
   "source": [
    "# Kod\n",
    "\n",
    "## https://github.com/maciejkar/Fraction_class.git"
   ]
  },
  {
   "cell_type": "code",
   "execution_count": 1,
   "id": "stretch-separate",
   "metadata": {},
   "outputs": [],
   "source": [
    "import math\n",
    "\n",
    "class Fraction():\n",
    "    \"\"\"Class which represent fractions \"\"\"\n",
    "\n",
    "    mixed = False\n",
    "    allow_float = False\n",
    "    float_precision = 4\n",
    "\n",
    "    def __init__(self, num, den) :\n",
    "        \"\"\"Function creat and reduse fractions\n",
    "        @parm num: (int) numerator\n",
    "        @parm den: (int) denominator\"\"\"\n",
    "        \n",
    "        # Change float to ratio whe is allowed\n",
    "        if self.allow_float == True and type(num) in (float, int) and type(den) in (float, int):\n",
    "            num = math.floor(num * 10 ** self.float_precision)\n",
    "            den = math.floor(den * 10 ** self.float_precision)\n",
    "            \n",
    "            while num % 10 == 0 and den % 10 == 0:\n",
    "                num = num // 10\n",
    "                den = den // 10\n",
    "\n",
    "\n",
    "        if type(num) == int and type(den) == int:\n",
    "            if den == 0:\n",
    "                raise ValueError(\"Denominator can't be 0\")\n",
    "            if den * num > 0:\n",
    "                self.num = abs(num)\n",
    "                self.den = abs(den)\n",
    "            else :\n",
    "                self.num = -abs(num)\n",
    "                self.den = abs(den)\n",
    "            \n",
    "            # redusing fraction   \n",
    "            n = 2\n",
    "            while n <= min(abs(self.num), abs(self.den)):\n",
    "                if self.num % n == 0 and self.den % n == 0:\n",
    "                    self.num = self.num // n\n",
    "                    self.den = self.den // n \n",
    "                else:\n",
    "                    n += 1\n",
    "        else :    \n",
    "            raise ValueError(\"Numerator and denominator must be intiger \")\n",
    "\n",
    "    def get_num(self):\n",
    "        \"\"\"Method return numerator\"\"\"\n",
    "        return self.num\n",
    "\n",
    "    def get_den(self):\n",
    "        \"\"\"Method return denominator\"\"\"\n",
    "        return self.den\n",
    "\n",
    "    def __float__(self):\n",
    "        return self.num / self.den\n",
    "\n",
    "    def __str__(self):\n",
    "        if self.den == 1:\n",
    "            return str(self.num)\n",
    "        if self.mixed == True:\n",
    "            return str(self.num // self.den) + \" and \" + str(self.num % self.den) + \"/\" + str(self.den)\n",
    "        return str(self.num) + '/' + str(self.den)\n",
    "\n",
    "    def __add__(self, other):\n",
    "        if type(other) != Fraction:\n",
    "            other = Fraction(other, 1)\n",
    "\n",
    "        return Fraction(self.num * other.den + other.num * self.den, self.den * other.den)\n",
    "\n",
    "    def __radd__(self, other):\n",
    "        return self + other\n",
    "    \n",
    "    def __sub__(self, other):\n",
    "        if type(other) != Fraction:\n",
    "            other = Fraction(other, 1)\n",
    "            \n",
    "        return Fraction(self.num * other.den - other.num * self.den, self.den * other.den)\n",
    "\n",
    "    def __mul__(self,other):\n",
    "        if type(other) != Fraction:\n",
    "            return other * self\n",
    "        return Fraction(self.num * other.num , self.den * other.den)\n",
    "\n",
    "    def __rmul__(self, scalar):\n",
    "        return Fraction(self.num * scalar, self.den)\n",
    "    \n",
    "    def __truediv__(self, other):\n",
    "        if type(other) != Fraction:\n",
    "            return Fraction(self.num, self.den * other)\n",
    "\n",
    "        return Fraction(self.num * other.den , self.den * other.num)\n",
    "\n",
    "    def __pow__(self, power):\n",
    "        if type(power) != int:\n",
    "            power = float(power)\n",
    "        return Fraction(math.pow(self.num, power), math.pow(self.den, power))\n",
    "     \n",
    "            \n",
    "    def __lt__(self, other):\n",
    "        if type(other) != Fraction:\n",
    "            if float(self) < other :\n",
    "                 return True\n",
    "            else:\n",
    "                return False\n",
    "\n",
    "        if self.num / self.den < other.num / other.den :\n",
    "            return True\n",
    "        else:\n",
    "            return False\n",
    "\n",
    "    def __gt__(self, other):\n",
    "        return not self < other\n",
    "\n",
    "    def __eq__(self, other):\n",
    "        if type(other) != Fraction:\n",
    "            if math.isclose(float(self) , other) :\n",
    "                 return True\n",
    "            else:\n",
    "                return False\n",
    "\n",
    "        if self.num == other.num and self.den == other.den:\n",
    "            return True\n",
    "        else:\n",
    "            return False\n",
    "    \n",
    "    def __le__(self, other):\n",
    "        if self.__lt__(other)  or self.__eq__(other):\n",
    "            return True\n",
    "        else:\n",
    "            return False\n",
    "    \n",
    "    def __ge__(self, other):\n",
    "        return  self > other or self == other\n"
   ]
  },
  {
   "cell_type": "code",
   "execution_count": null,
   "id": "temporal-judges",
   "metadata": {},
   "outputs": [],
   "source": []
  }
 ],
 "metadata": {
  "kernelspec": {
   "display_name": "Python 3",
   "language": "python",
   "name": "python3"
  },
  "language_info": {
   "codemirror_mode": {
    "name": "ipython",
    "version": 3
   },
   "file_extension": ".py",
   "mimetype": "text/x-python",
   "name": "python",
   "nbconvert_exporter": "python",
   "pygments_lexer": "ipython3",
   "version": "3.7.9"
  }
 },
 "nbformat": 4,
 "nbformat_minor": 5
}
